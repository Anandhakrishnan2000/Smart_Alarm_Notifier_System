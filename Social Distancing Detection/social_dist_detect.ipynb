{
 "cells": [
  {
   "cell_type": "code",
   "execution_count": 1,
   "id": "dc19a20d",
   "metadata": {},
   "outputs": [],
   "source": [
    "\n",
    "# import the necessary packages\n",
    "from TheLazyCoder import social_distancing_config as config\n",
    "from TheLazyCoder.detection import detect_people\n",
    "from scipy.spatial import distance as dist\n",
    "import numpy as np\n",
    "import argparse\n",
    "import imutils\n",
    "import cv2\n",
    "import os"
   ]
  },
  {
   "cell_type": "code",
   "execution_count": 2,
   "id": "d2803364",
   "metadata": {},
   "outputs": [
    {
     "name": "stderr",
     "output_type": "stream",
     "text": [
      "usage: ipykernel_launcher.py [-h] [-i INPUT] [-o OUTPUT] [-d DISPLAY]\n",
      "ipykernel_launcher.py: error: unrecognized arguments: -f C:\\Users\\anand\\AppData\\Roaming\\jupyter\\runtime\\kernel-9a5bcdd5-5eca-41bf-a55e-88f495fe5aa1.json\n"
     ]
    },
    {
     "ename": "SystemExit",
     "evalue": "2",
     "output_type": "error",
     "traceback": [
      "An exception has occurred, use %tb to see the full traceback.\n",
      "\u001b[1;31mSystemExit\u001b[0m\u001b[1;31m:\u001b[0m 2\n"
     ]
    },
    {
     "name": "stderr",
     "output_type": "stream",
     "text": [
      "C:\\Users\\anand\\anaconda3\\envs\\tensorflow\\lib\\site-packages\\IPython\\core\\interactiveshell.py:3369: UserWarning: To exit: use 'exit', 'quit', or Ctrl-D.\n",
      "  warn(\"To exit: use 'exit', 'quit', or Ctrl-D.\", stacklevel=1)\n"
     ]
    }
   ],
   "source": [
    "ap = argparse.ArgumentParser()\n",
    "ap.add_argument(\"-i\", \"--input\", type=str, default=\"\",\n",
    "\thelp=\"path to (optional) input video file\")\n",
    "ap.add_argument(\"-o\", \"--output\", type=str, default=\"\",\n",
    "\thelp=\"path to (optional) output video file\")\n",
    "ap.add_argument(\"-d\", \"--display\", type=int, default=1,\n",
    "\thelp=\"whether or not output frame should be displayed\")\n",
    "args = vars(ap.parse_args())"
   ]
  },
  {
   "cell_type": "code",
   "execution_count": 3,
   "id": "69a81de1",
   "metadata": {},
   "outputs": [],
   "source": [
    "# load the COCO class labels our YOLO model was trained on\n",
    "labelsPath = os.path.sep.join([config.MODEL_PATH, \"coco.names\"])\n",
    "LABELS = open(labelsPath).read().strip().split(\"\\n\")\n",
    "\n",
    "# derive the paths to the YOLO weights and model configuration\n",
    "weightsPath = os.path.sep.join([config.MODEL_PATH, \"yolov3.weights\"])\n",
    "configPath = os.path.sep.join([config.MODEL_PATH, \"yolov3.cfg\"])"
   ]
  },
  {
   "cell_type": "code",
   "execution_count": 4,
   "id": "ee24d135",
   "metadata": {},
   "outputs": [
    {
     "name": "stdout",
     "output_type": "stream",
     "text": [
      "[INFO] loading YOLO from disk...\n"
     ]
    }
   ],
   "source": [
    "# load our YOLO object detector trained on COCO dataset (80 classes)\n",
    "print(\"[INFO] loading YOLO from disk...\")\n",
    "net = cv2.dnn.readNetFromDarknet(configPath, weightsPath)\n"
   ]
  },
  {
   "cell_type": "code",
   "execution_count": 5,
   "id": "c7febe2a",
   "metadata": {},
   "outputs": [],
   "source": [
    "ln = net.getLayerNames()"
   ]
  },
  {
   "cell_type": "code",
   "execution_count": 7,
   "id": "adc5df7e",
   "metadata": {},
   "outputs": [
    {
     "data": {
      "text/plain": [
       "254"
      ]
     },
     "execution_count": 7,
     "metadata": {},
     "output_type": "execute_result"
    }
   ],
   "source": [
    "len(ln)"
   ]
  },
  {
   "cell_type": "code",
   "execution_count": 9,
   "id": "92ebc33e",
   "metadata": {},
   "outputs": [
    {
     "data": {
      "text/plain": [
       "tuple"
      ]
     },
     "execution_count": 9,
     "metadata": {},
     "output_type": "execute_result"
    }
   ],
   "source": [
    "type(ln)"
   ]
  },
  {
   "cell_type": "code",
   "execution_count": 10,
   "id": "1beb975e",
   "metadata": {},
   "outputs": [
    {
     "data": {
      "text/plain": [
       "('conv_0',\n",
       " 'bn_0',\n",
       " 'leaky_1',\n",
       " 'conv_1',\n",
       " 'bn_1',\n",
       " 'leaky_2',\n",
       " 'conv_2',\n",
       " 'bn_2',\n",
       " 'leaky_3',\n",
       " 'conv_3',\n",
       " 'bn_3',\n",
       " 'leaky_4',\n",
       " 'shortcut_4',\n",
       " 'conv_5',\n",
       " 'bn_5',\n",
       " 'leaky_6',\n",
       " 'conv_6',\n",
       " 'bn_6',\n",
       " 'leaky_7',\n",
       " 'conv_7',\n",
       " 'bn_7',\n",
       " 'leaky_8',\n",
       " 'shortcut_8',\n",
       " 'conv_9',\n",
       " 'bn_9',\n",
       " 'leaky_10',\n",
       " 'conv_10',\n",
       " 'bn_10',\n",
       " 'leaky_11',\n",
       " 'shortcut_11',\n",
       " 'conv_12',\n",
       " 'bn_12',\n",
       " 'leaky_13',\n",
       " 'conv_13',\n",
       " 'bn_13',\n",
       " 'leaky_14',\n",
       " 'conv_14',\n",
       " 'bn_14',\n",
       " 'leaky_15',\n",
       " 'shortcut_15',\n",
       " 'conv_16',\n",
       " 'bn_16',\n",
       " 'leaky_17',\n",
       " 'conv_17',\n",
       " 'bn_17',\n",
       " 'leaky_18',\n",
       " 'shortcut_18',\n",
       " 'conv_19',\n",
       " 'bn_19',\n",
       " 'leaky_20',\n",
       " 'conv_20',\n",
       " 'bn_20',\n",
       " 'leaky_21',\n",
       " 'shortcut_21',\n",
       " 'conv_22',\n",
       " 'bn_22',\n",
       " 'leaky_23',\n",
       " 'conv_23',\n",
       " 'bn_23',\n",
       " 'leaky_24',\n",
       " 'shortcut_24',\n",
       " 'conv_25',\n",
       " 'bn_25',\n",
       " 'leaky_26',\n",
       " 'conv_26',\n",
       " 'bn_26',\n",
       " 'leaky_27',\n",
       " 'shortcut_27',\n",
       " 'conv_28',\n",
       " 'bn_28',\n",
       " 'leaky_29',\n",
       " 'conv_29',\n",
       " 'bn_29',\n",
       " 'leaky_30',\n",
       " 'shortcut_30',\n",
       " 'conv_31',\n",
       " 'bn_31',\n",
       " 'leaky_32',\n",
       " 'conv_32',\n",
       " 'bn_32',\n",
       " 'leaky_33',\n",
       " 'shortcut_33',\n",
       " 'conv_34',\n",
       " 'bn_34',\n",
       " 'leaky_35',\n",
       " 'conv_35',\n",
       " 'bn_35',\n",
       " 'leaky_36',\n",
       " 'shortcut_36',\n",
       " 'conv_37',\n",
       " 'bn_37',\n",
       " 'leaky_38',\n",
       " 'conv_38',\n",
       " 'bn_38',\n",
       " 'leaky_39',\n",
       " 'conv_39',\n",
       " 'bn_39',\n",
       " 'leaky_40',\n",
       " 'shortcut_40',\n",
       " 'conv_41',\n",
       " 'bn_41',\n",
       " 'leaky_42',\n",
       " 'conv_42',\n",
       " 'bn_42',\n",
       " 'leaky_43',\n",
       " 'shortcut_43',\n",
       " 'conv_44',\n",
       " 'bn_44',\n",
       " 'leaky_45',\n",
       " 'conv_45',\n",
       " 'bn_45',\n",
       " 'leaky_46',\n",
       " 'shortcut_46',\n",
       " 'conv_47',\n",
       " 'bn_47',\n",
       " 'leaky_48',\n",
       " 'conv_48',\n",
       " 'bn_48',\n",
       " 'leaky_49',\n",
       " 'shortcut_49',\n",
       " 'conv_50',\n",
       " 'bn_50',\n",
       " 'leaky_51',\n",
       " 'conv_51',\n",
       " 'bn_51',\n",
       " 'leaky_52',\n",
       " 'shortcut_52',\n",
       " 'conv_53',\n",
       " 'bn_53',\n",
       " 'leaky_54',\n",
       " 'conv_54',\n",
       " 'bn_54',\n",
       " 'leaky_55',\n",
       " 'shortcut_55',\n",
       " 'conv_56',\n",
       " 'bn_56',\n",
       " 'leaky_57',\n",
       " 'conv_57',\n",
       " 'bn_57',\n",
       " 'leaky_58',\n",
       " 'shortcut_58',\n",
       " 'conv_59',\n",
       " 'bn_59',\n",
       " 'leaky_60',\n",
       " 'conv_60',\n",
       " 'bn_60',\n",
       " 'leaky_61',\n",
       " 'shortcut_61',\n",
       " 'conv_62',\n",
       " 'bn_62',\n",
       " 'leaky_63',\n",
       " 'conv_63',\n",
       " 'bn_63',\n",
       " 'leaky_64',\n",
       " 'conv_64',\n",
       " 'bn_64',\n",
       " 'leaky_65',\n",
       " 'shortcut_65',\n",
       " 'conv_66',\n",
       " 'bn_66',\n",
       " 'leaky_67',\n",
       " 'conv_67',\n",
       " 'bn_67',\n",
       " 'leaky_68',\n",
       " 'shortcut_68',\n",
       " 'conv_69',\n",
       " 'bn_69',\n",
       " 'leaky_70',\n",
       " 'conv_70',\n",
       " 'bn_70',\n",
       " 'leaky_71',\n",
       " 'shortcut_71',\n",
       " 'conv_72',\n",
       " 'bn_72',\n",
       " 'leaky_73',\n",
       " 'conv_73',\n",
       " 'bn_73',\n",
       " 'leaky_74',\n",
       " 'shortcut_74',\n",
       " 'conv_75',\n",
       " 'bn_75',\n",
       " 'leaky_76',\n",
       " 'conv_76',\n",
       " 'bn_76',\n",
       " 'leaky_77',\n",
       " 'conv_77',\n",
       " 'bn_77',\n",
       " 'leaky_78',\n",
       " 'conv_78',\n",
       " 'bn_78',\n",
       " 'leaky_79',\n",
       " 'conv_79',\n",
       " 'bn_79',\n",
       " 'leaky_80',\n",
       " 'conv_80',\n",
       " 'bn_80',\n",
       " 'leaky_81',\n",
       " 'conv_81',\n",
       " 'permute_82',\n",
       " 'yolo_82',\n",
       " 'identity_83',\n",
       " 'conv_84',\n",
       " 'bn_84',\n",
       " 'leaky_85',\n",
       " 'upsample_85',\n",
       " 'concat_86',\n",
       " 'conv_87',\n",
       " 'bn_87',\n",
       " 'leaky_88',\n",
       " 'conv_88',\n",
       " 'bn_88',\n",
       " 'leaky_89',\n",
       " 'conv_89',\n",
       " 'bn_89',\n",
       " 'leaky_90',\n",
       " 'conv_90',\n",
       " 'bn_90',\n",
       " 'leaky_91',\n",
       " 'conv_91',\n",
       " 'bn_91',\n",
       " 'leaky_92',\n",
       " 'conv_92',\n",
       " 'bn_92',\n",
       " 'leaky_93',\n",
       " 'conv_93',\n",
       " 'permute_94',\n",
       " 'yolo_94',\n",
       " 'identity_95',\n",
       " 'conv_96',\n",
       " 'bn_96',\n",
       " 'leaky_97',\n",
       " 'upsample_97',\n",
       " 'concat_98',\n",
       " 'conv_99',\n",
       " 'bn_99',\n",
       " 'leaky_100',\n",
       " 'conv_100',\n",
       " 'bn_100',\n",
       " 'leaky_101',\n",
       " 'conv_101',\n",
       " 'bn_101',\n",
       " 'leaky_102',\n",
       " 'conv_102',\n",
       " 'bn_102',\n",
       " 'leaky_103',\n",
       " 'conv_103',\n",
       " 'bn_103',\n",
       " 'leaky_104',\n",
       " 'conv_104',\n",
       " 'bn_104',\n",
       " 'leaky_105',\n",
       " 'conv_105',\n",
       " 'permute_106',\n",
       " 'yolo_106')"
      ]
     },
     "execution_count": 10,
     "metadata": {},
     "output_type": "execute_result"
    }
   ],
   "source": [
    "ln"
   ]
  },
  {
   "cell_type": "code",
   "execution_count": 11,
   "id": "511f5643",
   "metadata": {},
   "outputs": [],
   "source": [
    "Ul = net.getUnconnectedOutLayers()"
   ]
  },
  {
   "cell_type": "code",
   "execution_count": 12,
   "id": "1f69142c",
   "metadata": {},
   "outputs": [
    {
     "data": {
      "text/plain": [
       "array([200, 227, 254])"
      ]
     },
     "execution_count": 12,
     "metadata": {},
     "output_type": "execute_result"
    }
   ],
   "source": [
    "Ul"
   ]
  },
  {
   "cell_type": "code",
   "execution_count": 13,
   "id": "59089c32",
   "metadata": {},
   "outputs": [
    {
     "data": {
      "text/plain": [
       "numpy.ndarray"
      ]
     },
     "execution_count": 13,
     "metadata": {},
     "output_type": "execute_result"
    }
   ],
   "source": [
    "type(Ul)"
   ]
  },
  {
   "cell_type": "code",
   "execution_count": 15,
   "id": "04b72797",
   "metadata": {},
   "outputs": [],
   "source": [
    "ln = [ln[i - 1] for i in net.getUnconnectedOutLayers()]"
   ]
  },
  {
   "cell_type": "code",
   "execution_count": 16,
   "id": "2faf6583",
   "metadata": {},
   "outputs": [
    {
     "data": {
      "text/plain": [
       "['yolo_82', 'yolo_94', 'yolo_106']"
      ]
     },
     "execution_count": 16,
     "metadata": {},
     "output_type": "execute_result"
    }
   ],
   "source": [
    "ln"
   ]
  },
  {
   "cell_type": "code",
   "execution_count": 17,
   "id": "e5e9dcf5",
   "metadata": {},
   "outputs": [],
   "source": [
    "vs = cv2.VideoCapture(\"pedestrians.mp4\")"
   ]
  },
  {
   "cell_type": "code",
   "execution_count": 18,
   "id": "5ab8126c",
   "metadata": {},
   "outputs": [],
   "source": [
    "writer = None"
   ]
  },
  {
   "cell_type": "code",
   "execution_count": 22,
   "id": "cb8bf222",
   "metadata": {},
   "outputs": [],
   "source": [
    "(grabbed, frame) = vs.read()\n"
   ]
  },
  {
   "cell_type": "code",
   "execution_count": 23,
   "id": "5542ea54",
   "metadata": {},
   "outputs": [
    {
     "data": {
      "text/plain": [
       "array([[[110, 104, 112],\n",
       "        [112, 106, 114],\n",
       "        [113, 107, 115],\n",
       "        ...,\n",
       "        [210, 222, 221],\n",
       "        [207, 219, 218],\n",
       "        [206, 218, 217]],\n",
       "\n",
       "       [[117, 111, 119],\n",
       "        [123, 117, 125],\n",
       "        [126, 120, 128],\n",
       "        ...,\n",
       "        [210, 222, 221],\n",
       "        [206, 218, 217],\n",
       "        [205, 217, 216]],\n",
       "\n",
       "       [[135, 129, 137],\n",
       "        [142, 136, 144],\n",
       "        [148, 142, 150],\n",
       "        ...,\n",
       "        [209, 221, 220],\n",
       "        [205, 217, 216],\n",
       "        [204, 216, 215]],\n",
       "\n",
       "       ...,\n",
       "\n",
       "       [[ 93,  99, 115],\n",
       "        [ 94, 100, 116],\n",
       "        [ 97, 103, 119],\n",
       "        ...,\n",
       "        [ 59,  60,  49],\n",
       "        [ 78,  79,  68],\n",
       "        [ 97,  98,  87]],\n",
       "\n",
       "       [[ 93,  99, 115],\n",
       "        [ 94, 100, 116],\n",
       "        [ 97, 103, 119],\n",
       "        ...,\n",
       "        [ 59,  60,  49],\n",
       "        [ 78,  79,  68],\n",
       "        [ 97,  98,  87]],\n",
       "\n",
       "       [[ 93,  99, 115],\n",
       "        [ 94, 100, 116],\n",
       "        [ 97, 103, 119],\n",
       "        ...,\n",
       "        [ 59,  60,  49],\n",
       "        [ 78,  79,  68],\n",
       "        [ 97,  98,  87]]], dtype=uint8)"
      ]
     },
     "execution_count": 23,
     "metadata": {},
     "output_type": "execute_result"
    }
   ],
   "source": [
    "frame"
   ]
  },
  {
   "cell_type": "code",
   "execution_count": 24,
   "id": "d2aed953",
   "metadata": {},
   "outputs": [
    {
     "data": {
      "text/plain": [
       "(1080, 1920, 3)"
      ]
     },
     "execution_count": 24,
     "metadata": {},
     "output_type": "execute_result"
    }
   ],
   "source": [
    "frame.shape"
   ]
  },
  {
   "cell_type": "code",
   "execution_count": 25,
   "id": "95fb1e7b",
   "metadata": {},
   "outputs": [],
   "source": [
    "frame = imutils.resize(frame, width=700)"
   ]
  },
  {
   "cell_type": "code",
   "execution_count": 26,
   "id": "dd01ea71",
   "metadata": {},
   "outputs": [
    {
     "data": {
      "text/plain": [
       "(393, 700, 3)"
      ]
     },
     "execution_count": 26,
     "metadata": {},
     "output_type": "execute_result"
    }
   ],
   "source": [
    "frame.shape"
   ]
  },
  {
   "cell_type": "code",
   "execution_count": 30,
   "id": "d92f6210",
   "metadata": {},
   "outputs": [],
   "source": [
    "(H, W) = frame.shape[:2]\n",
    "results = []\n",
    "\n",
    "blob = cv2.dnn.blobFromImage(frame, 1 / 255.0, (416, 416),swapRB=True, crop=False)"
   ]
  },
  {
   "cell_type": "code",
   "execution_count": 32,
   "id": "ae6b2c5a",
   "metadata": {},
   "outputs": [
    {
     "data": {
      "text/plain": [
       "(1, 3, 416, 416)"
      ]
     },
     "execution_count": 32,
     "metadata": {},
     "output_type": "execute_result"
    }
   ],
   "source": [
    "blob.shape"
   ]
  },
  {
   "cell_type": "code",
   "execution_count": 33,
   "id": "32294bb2",
   "metadata": {},
   "outputs": [],
   "source": [
    "net.setInput(blob)\n",
    "layerOutputs = net.forward(ln)\n"
   ]
  },
  {
   "cell_type": "code",
   "execution_count": 36,
   "id": "e4f0f0d5",
   "metadata": {},
   "outputs": [
    {
     "data": {
      "text/plain": [
       "3"
      ]
     },
     "execution_count": 36,
     "metadata": {},
     "output_type": "execute_result"
    }
   ],
   "source": [
    "len(layerOutputs)"
   ]
  },
  {
   "cell_type": "code",
   "execution_count": 39,
   "id": "29939e73",
   "metadata": {},
   "outputs": [
    {
     "name": "stdout",
     "output_type": "stream",
     "text": [
      "507\n",
      "2028\n",
      "8112\n"
     ]
    }
   ],
   "source": [
    "print(len(layerOutputs[0]))\n",
    "print(len(layerOutputs[1]))\n",
    "print(len(layerOutputs[2]))\n"
   ]
  },
  {
   "cell_type": "code",
   "execution_count": 43,
   "id": "f304a4ae",
   "metadata": {},
   "outputs": [
    {
     "name": "stdout",
     "output_type": "stream",
     "text": [
      "85\n",
      "85\n",
      "85\n",
      "85\n"
     ]
    }
   ],
   "source": [
    "print(len(layerOutputs[0][5]))\n",
    "print(len(layerOutputs[0][6]))\n",
    "print(len(layerOutputs[0][7]))\n",
    "print(len(layerOutputs[0][500]))"
   ]
  },
  {
   "cell_type": "code",
   "execution_count": 45,
   "id": "d32d2148",
   "metadata": {},
   "outputs": [],
   "source": [
    "results = detect_people(frame, net, ln,personIdx=LABELS.index(\"person\"))"
   ]
  },
  {
   "cell_type": "code",
   "execution_count": 47,
   "id": "682862ce",
   "metadata": {},
   "outputs": [
    {
     "data": {
      "text/plain": [
       "[(0.9976577162742615, (563, 253, 603, 357), (583, 305)),\n",
       " (0.9950392842292786, (2, 205, 37, 287), (20, 246)),\n",
       " (0.9908084869384766, (467, -2, 487, 40), (477, 19)),\n",
       " (0.9903967380523682, (171, 97, 197, 171), (184, 134)),\n",
       " (0.9845964312553406, (87, 113, 116, 180), (102, 147)),\n",
       " (0.968180239200592, (343, 337, 393, 391), (368, 364)),\n",
       " (0.9399741291999817, (479, 100, 513, 159), (496, 130)),\n",
       " (0.9253908395767212, (493, 0, 515, 45), (504, 23)),\n",
       " (0.9173200130462646, (210, 65, 231, 117), (221, 91)),\n",
       " (0.8434418439865112, (425, -2, 438, 19), (432, 8)),\n",
       " (0.8394718170166016, (484, -1, 503, 40), (494, 19)),\n",
       " (0.3375735282897949, (666, 89, 683, 125), (675, 107)),\n",
       " (0.3147476613521576, (352, 3, 367, 48), (360, 26))]"
      ]
     },
     "execution_count": 47,
     "metadata": {},
     "output_type": "execute_result"
    }
   ],
   "source": [
    "results"
   ]
  },
  {
   "cell_type": "code",
   "execution_count": 61,
   "id": "fc242a46",
   "metadata": {},
   "outputs": [
    {
     "name": "stdout",
     "output_type": "stream",
     "text": [
      "[[583 305]\n",
      " [ 20 246]\n",
      " [477  19]\n",
      " [184 134]\n",
      " [102 147]\n",
      " [368 364]\n",
      " [496 130]\n",
      " [504  23]\n",
      " [221  91]\n",
      " [432   8]\n",
      " [494  19]\n",
      " [675 107]\n",
      " [360  26]]\n",
      "[[  0.         566.08303278 305.01147519 434.09906703 506.28549258\n",
      "  222.94842453 195.43285292 292.85662021 420.52348329 333.18163215\n",
      "  299.52796197 218.33002542 357.16942758]\n",
      " [566.08303278   0.         510.27247623 198.5950654  128.54960132\n",
      "  367.46156262 489.93060733 532.90243009 253.82277282 475.80248003\n",
      "  525.55209066 669.58643953 404.96913463]\n",
      " [305.01147519 510.27247623   0.         314.7602262  396.24361194\n",
      "  361.80934206 112.61438629  27.29468813 265.93232222  46.32493929\n",
      "   17.         216.67487164 117.20921465]\n",
      " [434.09906703 198.5950654  314.7602262    0.          83.02409289\n",
      "  294.54371492 312.02563997 338.70488629  56.72741841 278.17260828\n",
      "  330.64331235 491.74180217 206.49455199]\n",
      " [506.28549258 128.54960132 396.24361194  83.02409289   0.\n",
      "  343.28559539 394.36658073 420.68990955 131.5180596  358.07960009\n",
      "  412.368767   574.39446376 284.96491012]\n",
      " [222.94842453 367.46156262 361.80934206 294.54371492 343.28559539\n",
      "    0.         266.72082783 367.11987143 310.06128426 361.7070638\n",
      "  367.28871477 400.37232672 338.0946613 ]\n",
      " [195.43285292 489.93060733 112.61438629 312.02563997 394.36658073\n",
      "  266.72082783   0.         107.29864864 277.75168766 137.76792079\n",
      "  111.01801656 180.47160441 171.20747647]\n",
      " [292.85662021 532.90243009  27.29468813 338.70488629 420.68990955\n",
      "  367.11987143 107.29864864   0.         291.05497762  73.54590403\n",
      "   10.77032961 190.51771571 144.03124661]\n",
      " [420.52348329 253.82277282 265.93232222  56.72741841 131.5180596\n",
      "  310.06128426 277.75168766 291.05497762   0.         226.73773396\n",
      "  282.33490751 454.28185084 153.44705927]\n",
      " [333.18163215 475.80248003  46.32493929 278.17260828 358.07960009\n",
      "  361.7070638  137.76792079  73.54590403 226.73773396   0.\n",
      "   62.96824597 262.39283527  74.21590126]\n",
      " [299.52796197 525.55209066  17.         330.64331235 412.368767\n",
      "  367.28871477 111.01801656  10.77032961 282.33490751  62.96824597\n",
      "    0.         201.25854019 134.18271126]\n",
      " [218.33002542 669.58643953 216.67487164 491.74180217 574.39446376\n",
      "  400.37232672 180.47160441 190.51771571 454.28185084 262.39283527\n",
      "  201.25854019   0.         325.24759799]\n",
      " [357.16942758 404.96913463 117.20921465 206.49455199 284.96491012\n",
      "  338.0946613  171.20747647 144.03124661 153.44705927  74.21590126\n",
      "  134.18271126 325.24759799   0.        ]]\n"
     ]
    }
   ],
   "source": [
    "violate = set()\n",
    "\n",
    "if len(results) >= 2:\n",
    "\tcentroids = np.array([r[2] for r in results])\n",
    "\tprint(centroids)\n",
    "\tD = dist.cdist(centroids, centroids, metric=\"euclidean\")\n",
    "\tprint(D)\n",
    "    \n",
    "\tfor i in range(0, D.shape[0]):\n",
    "\t\tfor j in range(i + 1, D.shape[1]):\n",
    "\n",
    "\t\t\tif D[i, j] < config.MIN_DISTANCE:\n",
    "\t\t\t\t# update our violation set with the indexes of\n",
    "\t\t\t\t# the centroid pairs\n",
    "\t\t\t\tviolate.add(i)\n",
    "\t\t\t\tviolate.add(j)"
   ]
  },
  {
   "cell_type": "code",
   "execution_count": 54,
   "id": "b73b6287",
   "metadata": {},
   "outputs": [
    {
     "data": {
      "text/plain": [
       "(13, 2)"
      ]
     },
     "execution_count": 54,
     "metadata": {},
     "output_type": "execute_result"
    }
   ],
   "source": [
    "centroids.shape"
   ]
  },
  {
   "cell_type": "code",
   "execution_count": 55,
   "id": "4a078dff",
   "metadata": {},
   "outputs": [
    {
     "data": {
      "text/plain": [
       "(13, 13)"
      ]
     },
     "execution_count": 55,
     "metadata": {},
     "output_type": "execute_result"
    }
   ],
   "source": []
  },
  {
   "cell_type": "code",
   "execution_count": 63,
   "id": "bc151c26",
   "metadata": {},
   "outputs": [
    {
     "data": {
      "text/plain": [
       "{2, 7, 9, 10}"
      ]
     },
     "execution_count": 63,
     "metadata": {},
     "output_type": "execute_result"
    }
   ],
   "source": [
    "violate"
   ]
  },
  {
   "cell_type": "code",
   "execution_count": 64,
   "id": "7a771000",
   "metadata": {},
   "outputs": [],
   "source": [
    "# loop over the results\n",
    "for (i, (prob, bbox, centroid)) in enumerate(results):\n",
    "    # extract the bounding box and centroid coordinates, then\n",
    "    # initialize the color of the annotation\n",
    "    (startX, startY, endX, endY) = bbox\n",
    "    (cX, cY) = centroid\n",
    "    color = (0, 255, 0)\n",
    "\n",
    "    # if the index pair exists within the violation set, then\n",
    "    # update the color\n",
    "    if i in violate:\n",
    "        color = (0, 0, 255)\n",
    "\n",
    "    # draw (1) a bounding box around the person and (2) the\n",
    "    # centroid coordinates of the person,\n",
    "    cv2.rectangle(frame, (startX, startY), (endX, endY), color, 2)\n",
    "    cv2.circle(frame, (cX, cY), 5, color, 1)"
   ]
  },
  {
   "cell_type": "code",
   "execution_count": 65,
   "id": "ec8c0aec",
   "metadata": {},
   "outputs": [
    {
     "data": {
      "text/plain": [
       "array([[[123, 117, 125],\n",
       "        [133, 127, 135],\n",
       "        [147, 141, 149],\n",
       "        ...,\n",
       "        [224, 232, 231],\n",
       "        [216, 227, 226],\n",
       "        [207, 219, 218]],\n",
       "\n",
       "       [[165, 159, 167],\n",
       "        [157, 151, 159],\n",
       "        [144, 138, 146],\n",
       "        ...,\n",
       "        [228, 236, 235],\n",
       "        [216, 227, 226],\n",
       "        [203, 215, 214]],\n",
       "\n",
       "       [[148, 143, 151],\n",
       "        [146, 141, 149],\n",
       "        [149, 144, 152],\n",
       "        ...,\n",
       "        [231, 240, 239],\n",
       "        [216, 227, 226],\n",
       "        [200, 212, 211]],\n",
       "\n",
       "       ...,\n",
       "\n",
       "       [[ 94, 101, 117],\n",
       "        [ 98, 104, 120],\n",
       "        [ 95, 102, 118],\n",
       "        ...,\n",
       "        [ 55,  54,  48],\n",
       "        [ 54,  54,  44],\n",
       "        [ 76,  77,  66]],\n",
       "\n",
       "       [[ 94, 100, 116],\n",
       "        [ 98, 104, 120],\n",
       "        [ 95, 101, 117],\n",
       "        ...,\n",
       "        [ 54,  53,  46],\n",
       "        [ 54,  55,  45],\n",
       "        [ 79,  80,  69]],\n",
       "\n",
       "       [[ 94, 100, 116],\n",
       "        [ 98, 104, 120],\n",
       "        [ 95, 101, 117],\n",
       "        ...,\n",
       "        [ 52,  51,  44],\n",
       "        [ 54,  54,  44],\n",
       "        [ 80,  81,  70]]], dtype=uint8)"
      ]
     },
     "execution_count": 65,
     "metadata": {},
     "output_type": "execute_result"
    }
   ],
   "source": [
    "text = \"Social Distancing Violations: {}\".format(len(violate))\n",
    "cv2.putText(frame, text, (10, frame.shape[0] - 25),cv2.FONT_HERSHEY_SIMPLEX, 0.85, (0, 0, 255), 3)"
   ]
  },
  {
   "cell_type": "code",
   "execution_count": 67,
   "id": "d94c22a6",
   "metadata": {},
   "outputs": [],
   "source": [
    "cv2.imshow(\"Frame\", frame)\n",
    "key = cv2.waitKey(1) & 0xFF\n",
    "\n",
    "\n"
   ]
  },
  {
   "cell_type": "code",
   "execution_count": null,
   "id": "6a9967c7",
   "metadata": {},
   "outputs": [],
   "source": []
  }
 ],
 "metadata": {
  "kernelspec": {
   "display_name": "Python 3 (ipykernel)",
   "language": "python",
   "name": "python3"
  },
  "language_info": {
   "codemirror_mode": {
    "name": "ipython",
    "version": 3
   },
   "file_extension": ".py",
   "mimetype": "text/x-python",
   "name": "python",
   "nbconvert_exporter": "python",
   "pygments_lexer": "ipython3",
   "version": "3.9.7"
  }
 },
 "nbformat": 4,
 "nbformat_minor": 5
}
