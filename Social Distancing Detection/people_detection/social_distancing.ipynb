{
 "cells": [
  {
   "cell_type": "code",
   "execution_count": null,
   "id": "e1f0baa9",
   "metadata": {},
   "outputs": [],
   "source": [
    "MIN_CONF = 0.3\n",
    "NMS_THRESH = 0.3"
   ]
  },
  {
   "cell_type": "code",
   "execution_count": null,
   "id": "4346b669",
   "metadata": {},
   "outputs": [],
   "source": [
    "from .social_distancing_config import NMS_THRESH\n",
    "from .social_distancing_config import MIN_CONF\n",
    "import numpy as np\n",
    "import cv2"
   ]
  },
  {
   "cell_type": "markdown",
   "id": "105445b2",
   "metadata": {},
   "source": [
    "### Defintion of people detection function"
   ]
  },
  {
   "cell_type": "code",
   "execution_count": null,
   "id": "41cec314",
   "metadata": {},
   "outputs": [],
   "source": [
    "def detect_people(frame, net, ln, personIdx=0):\n",
    "\t(H, W) = frame.shape[:2]\n",
    "\tresults = []\n",
    "\n",
    "\tblob = cv2.dnn.blobFromImage(frame, 1 / 255.0, (416, 416), swapRB=True, crop=False)\n",
    "\tnet.setInput(blob)\n",
    "\tlayerOutputs = net.forward(ln)\n",
    "\n",
    "    boxes = []\n",
    "\tcentroids = []\n",
    "\tconfidences = []\n",
    "\n",
    "\tfor output in layerOutputs:\n",
    "\t\tfor detection in output:\n",
    "            \n",
    "\t\t\tscores = detection[5:]\n",
    "\t\t\tclassID = np.argmax(scores)\n",
    "\t\t\tconfidence = scores[classID]\n",
    "\n",
    "\t\t\tif classID == personIdx and confidence > MIN_CONF:\n",
    "                \n",
    "\t\t\t\tbox = detection[0:4] * np.array([W, H, W, H])\n",
    "\t\t\t\t(centerX, centerY, width, height) = box.astype(\"int\")\n",
    "\n",
    "\t\t\t\tx = int(centerX - (width / 2))\n",
    "\t\t\t\ty = int(centerY - (height / 2))\n",
    "\n",
    "\t\t\t\tboxes.append([x, y, int(width), int(height)])\n",
    "\t\t\t\tcentroids.append((centerX, centerY))\n",
    "\t\t\t\tconfidences.append(float(confidence))\n",
    "\n",
    "\tidxs = cv2.dnn.NMSBoxes(boxes, confidences, MIN_CONF, NMS_THRESH)\n",
    "\n",
    "\tif len(idxs) > 0:\n",
    "\t\tfor i in idxs.flatten():\n",
    "\t\t\t(x, y) = (boxes[i][0], boxes[i][1])\n",
    "\t\t\t(w, h) = (boxes[i][2], boxes[i][3])\n",
    "\n",
    "\t\t\tr = (confidences[i], (x, y, x + w, y + h), centroids[i])\n",
    "\t\t\tresults.append(r)\n",
    "\n",
    "\treturn results"
   ]
  }
 ],
 "metadata": {
  "kernelspec": {
   "display_name": "Python 3 (ipykernel)",
   "language": "python",
   "name": "python3"
  },
  "language_info": {
   "codemirror_mode": {
    "name": "ipython",
    "version": 3
   },
   "file_extension": ".py",
   "mimetype": "text/x-python",
   "name": "python",
   "nbconvert_exporter": "python",
   "pygments_lexer": "ipython3",
   "version": "3.9.7"
  }
 },
 "nbformat": 4,
 "nbformat_minor": 5
}
